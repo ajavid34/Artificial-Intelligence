{
 "cells": [
  {
   "cell_type": "markdown",
   "metadata": {},
   "source": [
    "# $$\\color{red}{\\text{Artificial Intelligence - Camputer Assignment 2}}$$\n",
    "                                                            Part 1: Genetic\n",
    "$$\\color{lime}{\\text{Alireza Javid - 810099011}}$$"
   ]
  },
  {
   "cell_type": "markdown",
   "metadata": {},
   "source": [
    "## $\\color{deepskyblue}{\\text{Introduction}}$\n",
    "<p dir=rtl style=\"direction: rtl;text-align: right;line-height:200%;font-family:vazir;font-size:medium\">\n",
    "<font face=\"vazir\" size=3>\n",
    "در این تمرین با استفاده از روش هایی که در طبیعت وجود دارند مانند جهش, جفت گیری و ... سعی در حل یک مسئله داریم. همانطور که در درس گفته شد الگوریتم های ژنتیک با ساده سازی هایی سعی در حل یک مسئله نسبتا بزرگ می کنند. در این تمرین ما برای یافتن جواب یک معادله از الگوریتم های ژنتیک مطابق زیر استفاده می کنیم.\n",
    "</font>\n",
    "</p>"
   ]
  },
  {
   "cell_type": "markdown",
   "metadata": {},
   "source": [
    "## $\\color{deepskyblue}{\\text{Import Libraries}}$"
   ]
  },
  {
   "cell_type": "code",
   "execution_count": 2,
   "metadata": {},
   "outputs": [],
   "source": [
    "import random\n",
    "import numpy as np"
   ]
  },
  {
   "cell_type": "markdown",
   "metadata": {},
   "source": [
    "## $\\color{deepskyblue}{\\text{Assign Parameters}}$"
   ]
  },
  {
   "cell_type": "code",
   "execution_count": 24,
   "metadata": {},
   "outputs": [],
   "source": [
    "# TODO assign numbers to variables below\n",
    "crossoverProbability =  0.5# probabality\n",
    "carryPercentage =  0.1# prob\n",
    "populationSize =  200# size"
   ]
  },
  {
   "cell_type": "markdown",
   "metadata": {},
   "source": [
    "## $\\color{deepskyblue}{\\text{Modeling}}$\n",
    "<p dir=rtl style=\"direction: rtl;text-align: right;line-height:200%;font-family:vazir;font-size:medium\">\n",
    "<font face=\"vazir\" size=3>\n",
    "<ul dir =rtl>\n",
    "<ul>\n",
    "    <li>\n",
    "    در ابتدا برای شبیه سازی مسئله کروموزم اولیه را به صورت یک رشته از اعداد که میان هر کدام عملگر های 4 گانه است, تعریف می کنیم. </li>\n",
    "    </li>\n",
    "    <li>\n",
    "    سپس جمعیت اولیه را نیز با همین الگو و ساختار به صورت رندم می سازیم.\n",
    "    </li>\n",
    "    <li>\n",
    "    تابع سازگاری را اختلاف اندازه میان مقدار هدف و مقدار هر کروموزوم تعریف می کنیم.\n",
    "    </li>\n",
    "    <li>\n",
    "    کراس اور را به این صورت انجام می دهیم که در ابتدا به صورت رندم مکان شکستن کروموزوم را مشخص می کنیم و سپس دو رشته متفاوت را با هم ادغام می کنیم. باید توجه کنیم که شرط کروموزم بودن اولیه با ادغام کردن نباید شکسته شود. برای میتویشن نیز به صورت رندم یک عدد یا عملگر را تغییر می دهیم\n",
    "    </li>\n",
    "    <li>\n",
    "    الگوریتم ژنتیک پیاده سازی شده در زیر مشخص است.\n",
    "    </li>\n",
    "</ul>\n",
    "</font>\n",
    "</p>"
   ]
  },
  {
   "cell_type": "code",
   "execution_count": 23,
   "metadata": {},
   "outputs": [],
   "source": [
    "def get_n_minimums(l, n):\n",
    "    s = sorted(l)[:n]\n",
    "    return [l.index(x) for x in s]\n",
    "\n",
    "\n",
    "class EquationBuilder:\n",
    "\n",
    "    def __init__(self, operators, operands, equationLength, goalNumber):\n",
    "        self.operators = operators\n",
    "        operands = [str(x) for x in operands]\n",
    "        self.operands = operands\n",
    "        self.equationLength = equationLength\n",
    "        self.goalNumber = goalNumber\n",
    "\n",
    "        # Create the earliest population at the begining\n",
    "        self.population = self.makeFirstPopulation()\n",
    "\n",
    "    def makeFirstPopulation(self):\n",
    "        chromosome_list = []\n",
    "        for i in range(populationSize):\n",
    "            operand_list = random.choices(self.operands, k=12)\n",
    "            operator_list = random.choices(self.operators, k=11)\n",
    "            chromosome = [item for sublist in zip(operand_list, operator_list) for item in sublist]\n",
    "            chromosome.append(operand_list[-1])\n",
    "            chromosome_list.append(chromosome)\n",
    "        return chromosome_list\n",
    "\n",
    "    # TODO create random chromosomes to build the early population, and return it\n",
    "\n",
    "    def findEquation(self):\n",
    "        # Create a new generation of chromosomes, and make it better in every iteration\n",
    "        while (True):\n",
    "            random.shuffle(self.population)\n",
    "\n",
    "            fitnesses = []\n",
    "            for i in range(populationSize):\n",
    "                fitness = self.calcFitness(self.population[i])\n",
    "                if fitness == 1:\n",
    "                    return self.population[i]\n",
    "                fitnesses.append(fitness)\n",
    "\n",
    "            #calculate the fitness of each chromosome\n",
    "            self.total_fitness = sum(fitnesses)\n",
    "            bestChromosome = [self.population[x] for x in\n",
    "                              get_n_minimums(fitnesses, int(populationSize * carryPercentage))]\n",
    "\n",
    "\n",
    "            # TODO return chromosome if a solution is found, else save the fitness in an array\n",
    "\n",
    "            # TODO find the best chromosomes based on their fitnesses, and carry them directly to the next generation (optional)\n",
    "            carriedChromosomes = []\n",
    "            for i in range(0, int(populationSize * carryPercentage)):\n",
    "                carriedChromosomes.append(bestChromosome[i])\n",
    "\n",
    "            # A pool consisting of potential candidates for mating (crossover and mutation)\n",
    "            matingPool = self.createMatingPool(populationSize - int(populationSize * carryPercentage), fitnesses)\n",
    "\n",
    "            # The pool consisting of chromosomes after crossover\n",
    "            crossoverPool = self.createCrossoverPool(matingPool)\n",
    "\n",
    "            # Delete the previous population\n",
    "            self.population.clear()\n",
    "\n",
    "            # Create the portion of population that is undergone crossover and mutation\n",
    "            for i in range(populationSize - int(populationSize * carryPercentage)):\n",
    "                self.population.append(self.mutate(crossoverPool[i]))\n",
    "\n",
    "            # Add the prominent chromosomes directly to next generation\n",
    "            self.population.extend(carriedChromosomes)\n",
    "\n",
    "    def createMatingPool(self, pool_size, fitnesses):\n",
    "        # TODO make a brand new custom pool to accentuate prominent chromosomes (optional)\n",
    "        # TODO create the matingPool using custom pool created in the last step and return it\n",
    "        prob = [x / self.total_fitness for x in fitnesses]\n",
    "        indexes = list(range(len(fitnesses)))\n",
    "        selected_index = np.random.choice(indexes, pool_size, p=prob)\n",
    "        matingPool = [self.population[x] for x in selected_index]\n",
    "        return matingPool\n",
    "\n",
    "    def createCrossoverPool(self, matingPool):\n",
    "        crossoverPool = []\n",
    "        for i in range(len(matingPool)):\n",
    "            if random.random() > crossoverProbability:\n",
    "            # TODO don't perform crossover and add the chromosomes to the next generation directly to crossoverPool\n",
    "                crossoverPool.append(matingPool[i])\n",
    "            else:\n",
    "        # TODO find 2 child chromosomes, crossover, and add the result to crossoverPool\n",
    "                position = random.randint(1,self.equationLength)\n",
    "                first_chromosome = random.randint(0, len(matingPool) - 1)\n",
    "                second_chromosome = random.randint(0, len(matingPool) - 1)\n",
    "                cross_over = matingPool[first_chromosome][:position] + matingPool[second_chromosome][position:]\n",
    "                crossoverPool.append(cross_over)\n",
    "        return crossoverPool\n",
    "\n",
    "    def mutate(self, chromosome):\n",
    "        # TODO mutate the input chromosome\n",
    "        rand = random.randint(0, self.equationLength - 1)\n",
    "        if chromosome[rand] in self.operands:\n",
    "            chromosome[rand] = random.choice(self.operands)\n",
    "        else:\n",
    "            chromosome[rand] = random.choice(self.operators)\n",
    "        return chromosome\n",
    "\n",
    "    def calcFitness(self, chromosome):\n",
    "        objective = abs(self.goalNumber - eval(''.join(chromosome)))\n",
    "        return 1 / (1 + objective)\n"
   ]
  },
  {
   "cell_type": "code",
   "execution_count": 25,
   "metadata": {},
   "outputs": [
    {
     "name": "stdout",
     "output_type": "stream",
     "text": [
      "10-9*10*3*10*9*5-6-5*8*7*7 = -123456\n"
     ]
    }
   ],
   "source": [
    "operands = [1,2,3,4,5,6,7,8,9,10]\n",
    "operators = ['+', '-', '*','%']\n",
    "equationLength= 23\n",
    "goalNumber= -123456\n",
    "equationBuilder = EquationBuilder(operators, operands, equationLength, goalNumber)\n",
    "equation = equationBuilder.findEquation()\n",
    "print(''.join(equation), '=', goalNumber)"
   ]
  },
  {
   "cell_type": "markdown",
   "metadata": {},
   "source": [
    "\n",
    "## $\\color{deepskyblue}{\\text{Answers}}$\n",
    "<p dir=rtl style=\"direction: rtl;text-align: right;line-height:200%;font-family:vazir;font-size:medium\">\n",
    "<font face=\"vazir\" size=3>\n",
    "<ul dir =rtl>\n",
    "<ol>\n",
    "  <li>\n",
    "   اگر جمعیت اولیه بسیار کم باشد زمان ساخت هر نسل و ایتریشن کاهش می‌یابد اما ممکن است بسیار دیر به جواب برسیم چون فضای مسئله بسیار بزرگ است و ما حالات بسیار کمی را پوشش می‌دهیم و در نظر می‌گیریم در نتیجه باید ایتریشن های خیلی زیادی انجام دهیم و نسل های زیادی بسازیم و این کار باعث افزایش چشمگیر زمان اجرای برنامه می‌شود.\n",
    "اگر جمعیت اولیه بسیار زیاد باشد تعداد ایتریشن ها کمتر می‌شود ولی زمان ساخت هر نسل و هر ایتریشن به مقدار قابل توجهی افزایش می‌یابد و باعث افزایش چشم گیر زمان اجرای برنامه می‌شود، در صورتی که سرعت برنامه دلیل اصلی ما برای استفاده از این الگوریتم و چک نکردن تمام حالات ممکن است. \n",
    "  </li><li>\n",
    "  با این کار دقت برنامه افزایش می‌یابد ولی سرعت آن کاهش پیدا می‌کند.\n",
    "  </li>\n",
    "  <li>\n",
    "  خیر. اگر از crossover استفاده نشود ما به صورت کاملا رندم مکان هر ژن را تغییر می دهیم تا در نهایت به کروموزوم مطلوب برسیم و اجرای برنامه بسیار زمان بر و طولانی خواهد شد. اگر از mutation استفاده نکنیم ممکن است به دلیل جهت گیری در یافتن پاسخ صحیح و در نظر نگرفتن تمامی موارد به پاسخ مطلوب نرسیم و یا دیر تر برسیم. به صورت خلاصه crossover برای افزایش سرعت برنامه و mutation برای افزایش دقت برنامه صورت می گیرد. \n",
    "  </li>\n",
    "  <li>\n",
    "  جمعیت را به یک حد نصاب میرسانیم و سپس با مقدار قابل قبولی شانس برای جهش ژن ها در نظر می گیریم. مقادیر ابتدایی داده شده با سرعت مناسبی جوابی برای مسئله می دهند.\n",
    "  </li>\n",
    "  <li>\n",
    "   یکی از راه ها افزایش احتمال انجام عمل crossover است و راه دیگر این است که بخشی از جامعه را به صورت تصادفی حذف کنیم و به همین تعداد کروموزوم حذف شده، تعدادی کروموزم جدید، رندوم و بدون بایاس به جمعیت اضافه کنیم. \n",
    "  </li>\n",
    "  <li>\n",
    "  یک میزان cut off در نظر بگیریم و هنگامی که مقدار fitness ما به این اندازه مطلوبیت رسید (در این مسئله اختلاف دو معادله به حد کمی رسید.) خروجی را بدهیم. یا می توان الگوریتم را بار های محدودی اجرا کرد و در نهایت کروموزوم با بیشترین fitness را خروجی داد.\n",
    "  </li>\n",
    "</ol> \n",
    "</font>\n",
    "</p>"
   ]
  },
  {
   "cell_type": "markdown",
   "metadata": {},
   "source": [
    "\n",
    "\n",
    "## $\\color{deepskyblue}{\\text{Conclusion}}$\n",
    "<p dir=rtl style=\"direction: rtl;text-align: right;line-height:200%;font-family:vazir;font-size:medium\">\n",
    "<font face=\"vazir\" size=3>\n",
    "برای مسائلی که فضای حالت بسیار بزرگی دارند و چک کردن تمام حالات در آن ها از لحاظ زمانی غیر ممکن است می توان از الگوریتم ژنتیک استفاده کرد که در زمان بسیار کمتر و با دقت بسیار زیاد ما را به پاسخ می‌رساند، دقیقا مانند طبیعت که در آن گونه های برتر که برای بقا از بقیه مناسب تر هستند با گذشت زمان باقی می‌مانند و باقی گونه ها نابود می‌شوند. \n",
    "</font>\n",
    "</p>"
   ]
  }
 ],
 "metadata": {
  "kernelspec": {
   "display_name": "Python 3.9.13 64-bit (microsoft store)",
   "language": "python",
   "name": "python3"
  },
  "language_info": {
   "codemirror_mode": {
    "name": "ipython",
    "version": 3
   },
   "file_extension": ".py",
   "mimetype": "text/x-python",
   "name": "python",
   "nbconvert_exporter": "python",
   "pygments_lexer": "ipython3",
   "version": "3.9.13"
  },
  "orig_nbformat": 4,
  "vscode": {
   "interpreter": {
    "hash": "1a0a51feb3fe677077fd56f2294d600116797ec6b36f034b72c6e60af1880e8a"
   }
  }
 },
 "nbformat": 4,
 "nbformat_minor": 2
}
